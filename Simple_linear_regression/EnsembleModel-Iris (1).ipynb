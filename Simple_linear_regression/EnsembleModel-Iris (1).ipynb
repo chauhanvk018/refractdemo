{
 "cells": [
  {
   "cell_type": "markdown",
   "metadata": {},
   "source": [
    "##  Iris classification"
   ]
  },
  {
   "cell_type": "code",
   "execution_count": 1,
   "metadata": {},
   "outputs": [],
   "source": [
    "from mosaicml import *\n",
    "from mosaicml.constants import MLModelFlavours\n",
    "from sklearn.model_selection import train_test_split\n",
    "from sklearn.ensemble import RandomForestClassifier\n",
    "from sklearn import datasets\n",
    "from sklearn import svm"
   ]
  },
  {
   "cell_type": "code",
   "execution_count": 2,
   "metadata": {},
   "outputs": [],
   "source": [
    "iris = datasets.load_iris()\n",
    "digits = datasets.load_digits()\n",
    "X = iris.data\n",
    "y = iris.target"
   ]
  },
  {
   "cell_type": "markdown",
   "metadata": {},
   "source": [
    "# IRIS First Model Creation"
   ]
  },
  {
   "cell_type": "code",
   "execution_count": 3,
   "metadata": {},
   "outputs": [],
   "source": [
    "clf = RandomForestClassifier(random_state=0, n_jobs=-1)"
   ]
  },
  {
   "cell_type": "code",
   "execution_count": 4,
   "metadata": {},
   "outputs": [],
   "source": [
    "xtrain, xtest, ytrain, ytest = train_test_split(X,y,test_size=0.2, random_state=0)\n",
    "clf = clf.fit(xtrain, ytrain)"
   ]
  },
  {
   "cell_type": "code",
   "execution_count": 5,
   "metadata": {},
   "outputs": [
    {
     "name": "stdout",
     "output_type": "stream",
     "text": [
      "(30, 4)\n",
      "(30,)\n",
      "(120, 4)\n",
      "(120,)\n"
     ]
    }
   ],
   "source": [
    "y_pred=clf.predict(xtest)\n",
    "print(xtest.shape)\n",
    "print(ytest.shape)\n",
    "print(xtrain.shape)\n",
    "print(ytrain.shape)"
   ]
  },
  {
   "cell_type": "code",
   "execution_count": 6,
   "metadata": {},
   "outputs": [],
   "source": [
    "prob=clf.predict_proba(xtest)\n",
    "#print(prob)\n",
    "prob1=prob[:,1]"
   ]
  },
  {
   "cell_type": "markdown",
   "metadata": {},
   "source": [
    "# Iris Second Model Creation"
   ]
  },
  {
   "cell_type": "code",
   "execution_count": 7,
   "metadata": {},
   "outputs": [
    {
     "name": "stdout",
     "output_type": "stream",
     "text": [
      "(38, 4)\n",
      "(38,)\n",
      "(112, 4)\n",
      "(112,)\n"
     ]
    }
   ],
   "source": [
    "clf_2 = RandomForestClassifier(random_state=123, n_jobs=10)\n",
    "xtrain2, xtest2, ytrain2, ytest2 = train_test_split(X,y,test_size=0.25, random_state=123)\n",
    "clf_2 = clf_2.fit(xtrain2, ytrain2)\n",
    "y_pred2=clf_2.predict(xtest2)\n",
    "print(xtest2.shape)\n",
    "print(ytest2.shape)\n",
    "print(xtrain2.shape)\n",
    "print(ytrain2.shape)\n",
    "prob_2=clf_2.predict_proba(xtest2)[:,1]"
   ]
  },
  {
   "cell_type": "markdown",
   "metadata": {},
   "source": [
    "### score 1st Model"
   ]
  },
  {
   "cell_type": "code",
   "execution_count": 8,
   "metadata": {},
   "outputs": [],
   "source": [
    "@scoring_func\n",
    "def score_1(model, request):\n",
    "    import numpy\n",
    "    payload = request.json[\"payload\"]\n",
    "    data_list = payload\n",
    "    data_array = numpy.asarray(data_list)\n",
    "    prediction = model.predict(data_array)\n",
    "    return prediction.tolist()"
   ]
  },
  {
   "cell_type": "markdown",
   "metadata": {},
   "source": [
    "### score 2nd Model"
   ]
  },
  {
   "cell_type": "code",
   "execution_count": 9,
   "metadata": {},
   "outputs": [],
   "source": [
    "@scoring_func\n",
    "def score_2(model, request):\n",
    "    import numpy\n",
    "    payload = request.json[\"payload\"]\n",
    "    data_list = payload\n",
    "    data_array = numpy.asarray(data_list)\n",
    "    prediction = model.predict(data_array)\n",
    "    return prediction.tolist()"
   ]
  },
  {
   "cell_type": "code",
   "execution_count": 10,
   "metadata": {},
   "outputs": [],
   "source": [
    "import requests\n",
    "req = requests.Request()\n",
    "req.json = {\"payload\":[[5.8, 2.8, 5.1, 2.4],\n",
    "       [6.0 , 2.2, 4.0 , 1.0 ]]}"
   ]
  },
  {
   "cell_type": "code",
   "execution_count": 11,
   "metadata": {},
   "outputs": [
    {
     "data": {
      "text/plain": [
       "array([[5.8, 2.8, 5.1, 2.4],\n",
       "       [6. , 2.2, 4. , 1. ]])"
      ]
     },
     "execution_count": 11,
     "metadata": {},
     "output_type": "execute_result"
    }
   ],
   "source": [
    "xtest[:2]"
   ]
  },
  {
   "cell_type": "code",
   "execution_count": 12,
   "metadata": {},
   "outputs": [],
   "source": [
    "we=score_1(clf,req)"
   ]
  },
  {
   "cell_type": "code",
   "execution_count": 13,
   "metadata": {},
   "outputs": [],
   "source": [
    "import numpy as np\n",
    "per = np.array(we)\n"
   ]
  },
  {
   "cell_type": "code",
   "execution_count": 14,
   "metadata": {},
   "outputs": [
    {
     "data": {
      "text/plain": [
       "array([1. , 0.5])"
      ]
     },
     "execution_count": 14,
     "metadata": {},
     "output_type": "execute_result"
    }
   ],
   "source": [
    "per*0.5"
   ]
  },
  {
   "cell_type": "code",
   "execution_count": 15,
   "metadata": {},
   "outputs": [
    {
     "data": {
      "text/plain": [
       "array([6.3, 2.5, 4.9, 1.5])"
      ]
     },
     "execution_count": 15,
     "metadata": {},
     "output_type": "execute_result"
    }
   ],
   "source": [
    "xtest2[0]"
   ]
  },
  {
   "cell_type": "code",
   "execution_count": 16,
   "metadata": {},
   "outputs": [],
   "source": [
    "import requests\n",
    "req2 = requests.Request()\n",
    "req2.json = {\"payload\":[[6.3, 2.5, 4.9, 1.5]]}"
   ]
  },
  {
   "cell_type": "code",
   "execution_count": 17,
   "metadata": {},
   "outputs": [
    {
     "data": {
      "text/plain": [
       "[1]"
      ]
     },
     "execution_count": 17,
     "metadata": {},
     "output_type": "execute_result"
    }
   ],
   "source": [
    "score_2(clf_2,req2)"
   ]
  },
  {
   "cell_type": "markdown",
   "metadata": {},
   "source": [
    "# Registering 1st model"
   ]
  },
  {
   "cell_type": "code",
   "execution_count": 18,
   "metadata": {},
   "outputs": [
    {
     "name": "stdout",
     "output_type": "stream",
     "text": [
      "Calculating build time metrics\n",
      "\n",
      "Progress: ██████████████████████████████████████████████████████████████████████ 100.0%\n"
     ]
    },
    {
     "data": {
      "application/vnd.jupyter.widget-view+json": {
       "model_id": "4f0cf7edb42f4ae7865eb2a985db541d",
       "version_major": 2,
       "version_minor": 0
      },
      "text/plain": [
       "VBox(children=(HTML(value='<style>.grad_1{background: #2468a4;} .grad_2{ color:white; background: #2468a4;}</s…"
      ]
     },
     "metadata": {},
     "output_type": "display_data"
    }
   ],
   "source": [
    "register_model(clf,\n",
    "                score_1,\n",
    "                \"sklearn_iris_v11_a\",\n",
    "                \"sklearn_iris_v11_a\",\n",
    "                MLModelFlavours.sklearn,\n",
    "                input_type=\"json\",\n",
    "                explain_ai=True,\n",
    "                x_train=xtrain, \n",
    "                y_train=ytrain,\n",
    "                y_true=ytest,\n",
    "                y_pred=y_pred,\n",
    "                model_type=\"classification\",\n",
    "                prob=prob1,\n",
    "                feature_names=iris.feature_names,\n",
    "                feature_ids=iris.feature_names,\n",
    "                target_names=iris.target_names.tolist()\n",
    "              )"
   ]
  },
  {
   "cell_type": "markdown",
   "metadata": {},
   "source": [
    "# Registering 2nd model"
   ]
  },
  {
   "cell_type": "code",
   "execution_count": null,
   "metadata": {},
   "outputs": [],
   "source": [
    "register_model(clf_2,\n",
    "                score_2,\n",
    "                \"sklearn_iris_v22_a\",\n",
    "                \"sklearn_iris_v22_a\",\n",
    "                MLModelFlavours.sklearn,\n",
    "                input_type=\"json\",\n",
    "                explain_ai=True,\n",
    "                x_train=xtrain2, \n",
    "                y_train=ytrain2,\n",
    "                y_true=ytest2,\n",
    "                y_pred=y_pred2,\n",
    "                model_type=\"classification\",\n",
    "                prob=prob_2,\n",
    "                feature_names=iris.feature_names,\n",
    "                feature_ids=iris.feature_names,\n",
    "                target_names=iris.target_names.tolist()\n",
    "              )"
   ]
  },
  {
   "cell_type": "markdown",
   "metadata": {},
   "source": [
    "# Ensemble model registration"
   ]
  },
  {
   "cell_type": "code",
   "execution_count": null,
   "metadata": {},
   "outputs": [],
   "source": [
    "from mosaicml import *\n",
    "from mosaicml.constants import MLModelFlavours"
   ]
  },
  {
   "cell_type": "code",
   "execution_count": null,
   "metadata": {},
   "outputs": [],
   "source": [
    "import requests\n",
    "req_ensemble = requests.Request()\n",
    "req_ensemble1 = requests.Request()\n",
    "req_ensemble2 = requests.Request()\n",
    "req_ensemble1.json = {\"payload\":[[5.8, 2.8, 5.1, 2.4]]}\n",
    "req_ensemble2.json = {\"payload\":[[5.8, 2.8, 5.1, 2.4]]}\n",
    "req_ensemble.json = {\"model1\":{\"payload\":[[5.8, 2.8, 5.1, 2.4],\n",
    "       [6.0 , 2.2, 4.0 , 1.0 ]]},\"model2\":{\"payload\":[[5.8, 2.8, 5.1, 2.4],\n",
    "       [6.0 , 2.2, 4.0 , 1.0 ]]}}\n",
    "print(req_ensemble.json)"
   ]
  },
  {
   "cell_type": "markdown",
   "metadata": {},
   "source": [
    "### Ensemble model Score function"
   ]
  },
  {
   "cell_type": "code",
   "execution_count": null,
   "metadata": {},
   "outputs": [],
   "source": [
    "import json\n",
    "@scoring_func\n",
    "def score_ensemble(model_dict, request):\n",
    "    #Replace with Model 1 ID\n",
    "    model1=model_dict[\"d2d643c8-14a3-4fd3-9c12-103797818da7\"][\"model_object\"]\n",
    "    score1=model_dict[\"d2d643c8-14a3-4fd3-9c12-103797818da7\"][\"score_object\"]\n",
    "    #Replace with Model 2 ID\n",
    "    model2=model_dict[\"327d77f1-5a63-4c46-a380-7cd80f2cfc04\"][\"model_object\"]\n",
    "    score2=model_dict[\"327d77f1-5a63-4c46-a380-7cd80f2cfc04\"][\"score_object\"]\n",
    "    request1=request.json[\"model1\"]\n",
    "    request2=request.json[\"model2\"]\n",
    "    import numpy as np\n",
    "    import requests\n",
    "    req_ensemble1 = requests.Request()\n",
    "    req_ensemble2 = requests.Request()\n",
    "    req_ensemble1.json=request1\n",
    "    req_ensemble2.json=request2\n",
    "    a=score1(model1,req_ensemble1)\n",
    "    b=score2(model2,req_ensemble2)\n",
    "    model1_prob = np.array(a)\n",
    "    model2_prob = np.array(b)\n",
    "    final_prob = model1_prob*0.5 + model2_prob*0.5\n",
    "    return final_prob.tolist()"
   ]
  },
  {
   "cell_type": "markdown",
   "metadata": {},
   "source": [
    "# Registering Ensemble Model"
   ]
  },
  {
   "cell_type": "code",
   "execution_count": null,
   "metadata": {
    "scrolled": true
   },
   "outputs": [],
   "source": [
    "help(register_ensemble_model)"
   ]
  },
  {
   "cell_type": "code",
   "execution_count": null,
   "metadata": {},
   "outputs": [],
   "source": [
    "#Replace version IDs of individual models\n",
    "version_list = [\"021be615-586f-45f5-9c50-29736533b45e\",\"a262a8b9-a295-4cec-8961-84d9b7393cac\"]"
   ]
  },
  {
   "cell_type": "code",
   "execution_count": null,
   "metadata": {},
   "outputs": [],
   "source": [
    "register_ensemble_model(name=\"first_ensemble_model_iris_33\",description=\"testing\",version_list=version_list,scoring_func=score_ensemble)"
   ]
  },
  {
   "cell_type": "code",
   "execution_count": null,
   "metadata": {},
   "outputs": [],
   "source": []
  }
 ],
 "metadata": {
  "kernelspec": {
   "display_name": "Python 3",
   "language": "python",
   "name": "python3"
  },
  "language_info": {
   "codemirror_mode": {
    "name": "ipython",
    "version": 3
   },
   "file_extension": ".py",
   "mimetype": "text/x-python",
   "name": "python",
   "nbconvert_exporter": "python",
   "pygments_lexer": "ipython3",
   "version": "3.6.15"
  }
 },
 "nbformat": 4,
 "nbformat_minor": 4
}
